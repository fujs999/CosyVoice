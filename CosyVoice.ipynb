{
 "cells": [
  {
   "cell_type": "code",
   "execution_count": null,
   "metadata": {},
   "outputs": [],
   "source": [
    "#@title CosyVoice\n",
    "!git clone --recursive https://github.com/fujs999/CosyVoice.git\n",
    "%cd CosyVoice\n",
    "!git submodule update --init --recursive\n",
    "!pip install -r requirements.txt\n",
    "!mkdir -p pretrained_models\n",
    "!git clone https://www.modelscope.cn/iic/CosyVoice-300M.git pretrained_models/CosyVoice-300M\n",
    "!git clone https://www.modelscope.cn/iic/CosyVoice-300M-SFT.git pretrained_models/CosyVoice-300M-SFT\n",
    "!git clone https://www.modelscope.cn/iic/CosyVoice-300M-Instruct.git pretrained_models/CosyVoice-300M-Instruct\n",
    "!git clone https://www.modelscope.cn/iic/CosyVoice-ttsfrd.git pretrained_models/CosyVoice-ttsfrd"
   ]
  },
  {
   "cell_type": "code",
   "execution_count": null,
   "metadata": {},
   "outputs": [],
   "source": [
    "!export PYTHONPATH=third_party/Matcha-TTS\n",
    "!python3 webui_colab.py --port 50000 --model_dir pretrained_models/CosyVoice-300M"
   ]
  }
 ],
 "metadata": {
  "language_info": {
   "name": "python"
  }
 },
 "nbformat": 4,
 "nbformat_minor": 2
}
