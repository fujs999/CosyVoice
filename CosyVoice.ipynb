{
 "cells": [
  {
   "cell_type": "code",
   "execution_count": null,
   "metadata": {},
   "outputs": [],
   "source": [
    "#@title CosyVoice\n",
    "!git clone --recursive https://github.com/fujs999/CosyVoice.git\n",
    "%cd CosyVoice\n",
    "!pip install -r requirements.txt\n",
    "!mkdir -p pretrained_models\n",
    "!git clone https://www.modelscope.cn/iic/CosyVoice-300M.git pretrained_models/CosyVoice-300M\n",
    "!export PYTHONPATH=third_party/Matcha-TTS\n",
    "!python3 webui_colab.py --port 50000 --model_dir pretrained_models/CosyVoice-300M"
   ]
  }
 ],
 "metadata": {
  "language_info": {
   "name": "python"
  }
 },
 "nbformat": 4,
 "nbformat_minor": 2
}
